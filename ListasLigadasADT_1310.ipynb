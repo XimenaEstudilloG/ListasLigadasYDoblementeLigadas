{
  "nbformat": 4,
  "nbformat_minor": 0,
  "metadata": {
    "colab": {
      "name": "ListasLigadasADT_1310.ipynb",
      "provenance": [],
      "collapsed_sections": [],
      "authorship_tag": "ABX9TyOifgDr20RFfb0p18JHYQ+/",
      "include_colab_link": true
    },
    "kernelspec": {
      "name": "python3",
      "display_name": "Python 3"
    },
    "language_info": {
      "name": "python"
    }
  },
  "cells": [
    {
      "cell_type": "markdown",
      "metadata": {
        "id": "view-in-github",
        "colab_type": "text"
      },
      "source": [
        "<a href=\"https://colab.research.google.com/github/XimenaEstudilloG/ListasLigadasYDoblementeLigadas/blob/main/ListasLigadasADT_1310.ipynb\" target=\"_parent\"><img src=\"https://colab.research.google.com/assets/colab-badge.svg\" alt=\"Open In Colab\"/></a>"
      ]
    },
    {
      "cell_type": "code",
      "metadata": {
        "id": "nHUcfFuf0t9_"
      },
      "source": [
        ""
      ],
      "execution_count": null,
      "outputs": []
    },
    {
      "cell_type": "markdown",
      "metadata": {
        "id": "sw3BlzG501SE"
      },
      "source": [
        "# Ejercicios con la clase Nodo\n",
        "\n",
        "- Crear un nodo 10\n",
        "   - imprimir el valor del nodo\n",
        "- Crear dos nodos 10, 20\n",
        "   - imprimir el valor del primero\n",
        "   -imprimir el valor del segundo\n",
        "   -transversal\n",
        "- Lo mismo pero con 4 nodos 10,20,30,40\n",
        "   - imprimir el valor del primero\n",
        "   -imprimir el valor del segundo\n",
        "   -transversal\n",
        "   -insertar el nodo 25, despues del nodo 20 y antes del nodo 30\n",
        " \n",
        "### Todo eso antes de ir a la escritura formal del ADT Lista Ligada"
      ]
    },
    {
      "cell_type": "code",
      "metadata": {
        "id": "BPvvqvbb1q7Y"
      },
      "source": [
        "class Nodo:\n",
        "    def __init__( self, value, siguiente = None ):\n",
        "        self.data = value\n",
        "        self.next = siguiente\n"
      ],
      "execution_count": 4,
      "outputs": []
    },
    {
      "cell_type": "code",
      "metadata": {
        "colab": {
          "base_uri": "https://localhost:8080/"
        },
        "id": "6Bpdxsbf2IB2",
        "outputId": "a992ac8b-d251-45ca-9a78-fd856275564f"
      },
      "source": [
        "head = Nodo(10)\n",
        "print( head.data )"
      ],
      "execution_count": 8,
      "outputs": [
        {
          "output_type": "stream",
          "name": "stdout",
          "text": [
            "10\n"
          ]
        }
      ]
    },
    {
      "cell_type": "code",
      "metadata": {
        "id": "Cy1bfDOC2enN"
      },
      "source": [
        "head = Nodo(10)\n",
        "head.next = Nodo(20)\n",
        "print(f\"Primero = {head.data} \")\n",
        "print(f\"Segundo = {head.next.data} \")\n",
        "\n",
        "# Lo mismo pero ahorrando código\n",
        "head = Nodo(10 , Nodo(20))\n",
        "print(f\"Primero = {head.data} \")\n",
        "print(f\"Segundo = {head.next.data} \")\n",
        "\n",
        "# Transversal\n",
        "curr_node = head\n",
        "while curr_node != None:\n",
        "    print(f\"| {curr_node.data} | --> \" , end= \"\")\n",
        "    curr_node = curr_node.next\n",
        "print(\"\")\n"
      ],
      "execution_count": null,
      "outputs": []
    },
    {
      "cell_type": "code",
      "metadata": {
        "colab": {
          "base_uri": "https://localhost:8080/"
        },
        "id": "43djRGcg7FGK",
        "outputId": "772e257b-f835-4e9f-d972-57dd64e8fdc7"
      },
      "source": [
        "head = Nodo(10 , Nodo(20, Nodo(30, Nodo(40))))\n",
        "# transversal\n",
        "curr_node = head\n",
        "while curr_node != None:\n",
        "    print(f\"| {curr_node.data} | --> \" , end= \"\")\n",
        "    curr_node = curr_node.next\n",
        "print(\"\")\n",
        "\n",
        "#imprimir el primero\n",
        "print(head.data)\n",
        "\n",
        "#imprimir el ultimo\n",
        "curr_node = head\n",
        "while curr_node.next != None:\n",
        "    curr_node = curr_node.next\n",
        "print( curr_node.data)\n",
        "\n",
        "# insertar el nodo 25\n",
        "curr_node = head\n",
        "while curr_node.data != 20:\n",
        "    curr_node = curr_node.next\n",
        "print(curr_node.data)\n",
        "\n",
        "print(\"----------Crear el nodo 25------------\")\n",
        "curr_node.next = Nodo(25,curr_node.next)\n",
        "print(\"Despues de insertar 25\")\n",
        "\n",
        "\n",
        "#transversal\n",
        "curr_node = head\n",
        "while curr_node !=  None:\n",
        "    print(f\"| {curr_node.data } | ---> \" , end=\"\")\n",
        "    curr_node = curr_node.next\n",
        "print(\"\")"
      ],
      "execution_count": 22,
      "outputs": [
        {
          "output_type": "stream",
          "name": "stdout",
          "text": [
            "| 10 | --> | 20 | --> | 30 | --> | 40 | --> \n",
            "10\n",
            "40\n",
            "20\n",
            "----------Crear el nodo 25------------\n",
            "Despues de insertar 25\n",
            "| 10 | ---> | 20 | ---> | 25 | ---> | 30 | ---> | 40 | ---> \n"
          ]
        }
      ]
    },
    {
      "cell_type": "code",
      "metadata": {
        "id": "TNse-7Kpc9WO"
      },
      "source": [
        "class LinkedList:\n",
        "    def __init__( self ):\n",
        "        self.head = None\n",
        "\n",
        "    def is_empty( self ):\n",
        "        return self.head == None\n",
        "\n",
        "    def get_tail( self ):\n",
        "        if self.is_empty():\n",
        "            return None\n",
        "        else:\n",
        "            curr_node = self.head\n",
        "            while curr_node.next != None:\n",
        "                curr_node = curr_node.next\n",
        "            return curr_node\n",
        "\n",
        "    def append( self, value):\n",
        "        if self.head == None:\n",
        "            self.head = Nodo(value)\n",
        "        else:\n",
        "            curr_node = self.head\n",
        "            while curr_node.next != None:\n",
        "                curr_node = curr_node.next\n",
        "            curr_node.next = Nodo(value)\n",
        "\n",
        "    def transversal (self):\n",
        "        curr_node = self.head\n",
        "        while curr_node != None:\n",
        "            print(f\"| {curr_node.data} | -->\", end=\"\")\n",
        "            curr_node = curr_node.next\n",
        "        print (\"\")\n",
        "\n",
        "    def remove( self , value ):\n",
        "        if self.head == None:\n",
        "            print(\"Lista vacía, no se puede remover nada\")\n",
        "        else:\n",
        "            curr_node = self.head\n",
        "            aux = None\n",
        "            while curr_node.data != value:\n",
        "                aux = curr_node\n",
        "                curr_node = curr_node.next\n",
        "\n",
        "            if curr_node != None:\n",
        "                aux.next = curr_node.next\n",
        "                curr_node = None\n",
        "\n",
        "    def preppend( self , value ):\n",
        "        if self.head != None:\n",
        "            print(\"Esta vacío, no se puede hacer preppend\")\n",
        "        else:\n",
        "            aux = self.head\n",
        "            self.head = Nodo( value , aux)\n",
        "\n",
        "    def pop( self ):\n",
        "        curr_node = self.head \n",
        "        while curr_node.next.next != None:\n",
        "            curr_node = curr_node.next\n",
        "        print(f\"Nodo seleccionado: {curr_node.next.data}\")\n",
        "        curr_node.next = None\n",
        "\n",
        "    def pop_first( self ):\n",
        "        print(f\"Nodo seleccionado: {self.head.data}\")\n",
        "        self.head = self.head.next\n"
      ],
      "execution_count": 20,
      "outputs": []
    },
    {
      "cell_type": "code",
      "metadata": {
        "colab": {
          "base_uri": "https://localhost:8080/"
        },
        "id": "ociETC0CfbVM",
        "outputId": "918463c5-0eb7-4a53-8112-32c876f5e4ba"
      },
      "source": [
        "lista = LinkedList()\n",
        "if lista.is_empty():\n",
        "    print( \"La lista esta vacía\")\n",
        "else:\n",
        "    print( \"La lista no esta vacía\")\n",
        "\n",
        "lista.append(10)\n",
        "lista.append(20)\n",
        "lista.append(30)\n",
        "lista.append(40)\n",
        "lista.append(50)\n",
        "\n",
        "nodo = lista.get_tail()\n",
        "if nodo != None:\n",
        "    print(nodo.data)\n",
        "else:\n",
        "    print(\"Lista esta vacía\")\n",
        "\n",
        "lista.transversal()\n",
        "lista.remove(50)\n",
        "lista.transversal()\n",
        "print(\"\")\n",
        "print(\"--------Preppend--------\")\n",
        "lista.preppend(3)\n",
        "lista.transversal()\n",
        "print(\"\")\n",
        "print(\"---------Pop----------\")\n",
        "lista.pop()\n",
        "lista.transversal()\n",
        "print(\"\")\n",
        "print(\"--------Pop first---------\")\n",
        "lista.pop_first()\n",
        "lista.transversal()"
      ],
      "execution_count": 27,
      "outputs": [
        {
          "output_type": "stream",
          "name": "stdout",
          "text": [
            "La lista esta vacía\n",
            "50\n",
            "| 10 | -->| 20 | -->| 30 | -->| 40 | -->| 50 | -->\n",
            "| 10 | -->| 20 | -->| 30 | -->| 40 | -->\n",
            "\n",
            "--------Preppend--------\n",
            "Esta vacío, no se puede hacer preppend\n",
            "| 10 | -->| 20 | -->| 30 | -->| 40 | -->\n",
            "\n",
            "---------Pop----------\n",
            "Nodo seleccionado: 40\n",
            "| 10 | -->| 20 | -->| 30 | -->\n",
            "\n",
            "--------Pop first---------\n",
            "Nodo seleccionado: 10\n",
            "| 20 | -->| 30 | -->\n"
          ]
        }
      ]
    },
    {
      "cell_type": "code",
      "metadata": {
        "id": "T54yBWY3s-rI"
      },
      "source": [
        "class NodoDoble:\n",
        "    def __init__( self , value , siguiente=None , previo=None ):\n",
        "        self.data = value\n",
        "        self.next = siguiente\n",
        "        self.prev = previo"
      ],
      "execution_count": 14,
      "outputs": []
    },
    {
      "cell_type": "markdown",
      "metadata": {
        "id": "WSlNDhcGuV2B"
      },
      "source": [
        "# Listas Doblemente Ligadas\n",
        "# Ejercicios con la clase Nodo\n",
        "\n",
        "- Crear un nodo 10\n",
        "   - imprimir el valor del nodo\n",
        "- Crear dos nodos 10, 20\n",
        "   - imprimir el valor del primero\n",
        "   -imprimir el valor del segundo\n",
        "   -transversal\n",
        "- Lo mismo pero con 4 nodos 10,20,30,40\n",
        "   - imprimir el valor del primero\n",
        "   -imprimir el valor del ultimo\n",
        "   -transversal\n",
        "   -reverse transversal\n",
        "   -insertar el nodo al final"
      ]
    },
    {
      "cell_type": "code",
      "metadata": {
        "colab": {
          "base_uri": "https://localhost:8080/"
        },
        "id": "PPQ8pJEXuqkL",
        "outputId": "5b7b52ca-2407-4c8a-8e6c-19bb8a9059ad"
      },
      "source": [
        "#ejercicio 1\n",
        "head = NodoDoble(10)\n",
        "tail = head\n",
        "print( head.data )\n",
        "print( tail.data )\n",
        "\n",
        "#ejercicio 2\n",
        "print(\"\")\n",
        "print(\"--------Ejercicio 2--------\")\n",
        "\n",
        "head = NodoDoble(10, NodoDoble(20))\n",
        "head.next.prev = head\n",
        "tail = head.next\n",
        "print(\"El primero:\" , head.data)\n",
        "print(\"El segundo:\" , tail.prev.data)\n",
        "\n",
        "print(\"El primero:\" , head.next.data)\n",
        "print(\"El segundo:\" , tail.data)\n",
        "\n",
        "head = NodoDoble(10,NodoDoble(20,NodoDoble(30,NodoDoble(40))))\n",
        "tail = head.next.next.next\n",
        "head.next.prev = head\n",
        "head.next.next.prev = head.next\n",
        "tail.prev = head.next.next\n",
        "print(\"El primero:\" , head.data)\n",
        "print(\"El segundo:\" , tail.prev.prev.prev.data)\n",
        "\n",
        "print(\"El último:\" , tail.data)\n",
        "print(\"El último:\" , head.next.next.next.data)\n",
        "\n",
        "#transversal\n",
        "print(\"\")\n",
        "curr_node = head\n",
        "while curr_node != None:\n",
        "    print(f\"| {curr_node.data} | -->\", end=\"\")\n",
        "    curr_node = curr_node.next\n",
        "print (\"\")\n",
        "\n",
        "#reverse transversal\n",
        "print(\"\")\n",
        "print(\"------Reverse transversal--------\")\n",
        "curr_node = tail\n",
        "while curr_node != None:\n",
        "    print(f\"| {curr_node.data} | -->\", end=\"\")\n",
        "    curr_node = curr_node.prev\n",
        "print (\"\")\n",
        "\n",
        "print(\"\")\n",
        "print(\"--------Imprimir 50 al final--------\")\n",
        "tail.next = NodoDoble( 50, None, tail)\n",
        "curr_node = head\n",
        "while curr_node != None:\n",
        "    print(f\"| {curr_node.data} | -->\", end=\"\")\n",
        "    curr_node = curr_node.next\n",
        "print (\"\")\n",
        "\n",
        "print(\"\")\n",
        "print(\"-------Reverse transversal--------\")\n",
        "curr_node = tail.next\n",
        "while curr_node != None:\n",
        "  print(f\"|{curr_node.data}|-->\", end=\"\")\n",
        "  curr_node = curr_node.prev\n",
        "print(\"\")"
      ],
      "execution_count": 36,
      "outputs": [
        {
          "output_type": "stream",
          "name": "stdout",
          "text": [
            "10\n",
            "10\n",
            "\n",
            "--------Ejercicio 2--------\n",
            "El primero: 10\n",
            "El segundo: 10\n",
            "El primero: 20\n",
            "El segundo: 20\n",
            "El primero: 10\n",
            "El segundo: 10\n",
            "El último: 40\n",
            "El último: 40\n",
            "\n",
            "| 10 | -->| 20 | -->| 30 | -->| 40 | -->\n",
            "\n",
            "------Reverse transversal--------\n",
            "| 40 | -->| 30 | -->| 20 | -->| 10 | -->\n",
            "\n",
            "--------Imprimir 50 al final--------\n",
            "| 10 | -->| 20 | -->| 30 | -->| 40 | -->| 50 | -->\n",
            "\n",
            "-------Reverse transversal--------\n",
            "|50|-->|40|-->|30|-->|20|-->|10|-->\n"
          ]
        }
      ]
    },
    {
      "cell_type": "code",
      "metadata": {
        "id": "jSSz-7xH8zMa"
      },
      "source": [
        "class DoubleLinkedList:\n",
        "    def __init__( self ):\n",
        "        self.head = None\n",
        "        self.tail = None\n",
        "        self.size = 0\n",
        "\n",
        "    def get_size( self ):\n",
        "        return self.size\n",
        "    \n",
        "    def is_empty( self ): \n",
        "        return self.size == 0\n",
        "    \n",
        "    def append( self , value ):\n",
        "        if self.is_empty():\n",
        "            self.head = NodoDoble( value )\n",
        "            self.tail = self.head\n",
        "        else:\n",
        "            self.tail.next = NodoDoble( value , None , self.tail )\n",
        "            self.tail = self.tail.next\n",
        "        self.size += 1\n",
        "\n",
        "    def find_from_tail( self , value ):\n",
        "        curr_node = self.tail\n",
        "        contador = 0\n",
        "        while curr_node.data != value:\n",
        "            contador += 1\n",
        "            curr_node = curr_node.prev\n",
        "        \n",
        "        if curr_node.data == value:\n",
        "            print(f\"El Nodo está en la posición: { contador + 1 } -----> entra por tail\")\n",
        "\n",
        "    def find_from_head( self , value ):\n",
        "        curr_node = self.head\n",
        "        contador = 0\n",
        "        while curr_node.data != value:\n",
        "            contador += 1\n",
        "            curr_node = curr_node.next\n",
        "\n",
        "        if curr_node.data == value:\n",
        "            print(f\"El Nodo está en la posición: { contador + 1 } -----> entra por head\")\n",
        "\n",
        "    def remove_from_tail( self , value ):\n",
        "        curr_node = self.tail\n",
        "        while curr_node.data != value:\n",
        "            curr_node = curr_node.prev\n",
        "        \n",
        "        if curr_node.data == value:\n",
        "            curr_node.next.prev = curr_node.prev\n",
        "            curr_node.prev.next = curr_node.next\n",
        "\n",
        "    def remove_from_head( self , value ):\n",
        "        curr_node = self.head\n",
        "        while curr_node.data != value:\n",
        "            curr_node = curr_node.next\n",
        "\n",
        "        if curr_node.data == value:\n",
        "            curr_node.prev.next = curr_node.next\n",
        "            curr_node.next.prev = curr_node.prev\n",
        "        \n",
        "    def transversal( self ):\n",
        "        curr_node = self.head\n",
        "        while curr_node != None:\n",
        "            print(f\"| {curr_node.data} | -->\", end=\"\")\n",
        "            curr_node = curr_node.next\n",
        "        print(\"\")\n",
        "\n",
        "\n",
        "    def reverse_transversal( self ):\n",
        "        curr_node = self.tail\n",
        "        while curr_node != None:\n",
        "            print(f\"| {curr_node.data} | -->\", end=\"\")\n",
        "            curr_node = curr_node.prev\n",
        "        print(\"\")"
      ],
      "execution_count": 62,
      "outputs": []
    },
    {
      "cell_type": "code",
      "metadata": {
        "colab": {
          "base_uri": "https://localhost:8080/"
        },
        "id": "HY6G6onc_8c_",
        "outputId": "d9adbb00-84d0-47d5-9cb2-b8486ee9c575"
      },
      "source": [
        "ldl = DoubleLinkedList()\n",
        "ldl.append(10)\n",
        "ldl.append(20)\n",
        "ldl.append(30)\n",
        "ldl.append(40)\n",
        "ldl.append(50)\n",
        "ldl.append(60)\n",
        "ldl.append(70)\n",
        "ldl.append(80)\n",
        "ldl.append(90)\n",
        "ldl.append(100)\n",
        "ldl.transversal()\n",
        "print(\"\")\n",
        "print(f\"¿La lista está vacía?: { ldl.is_empty() }\")\n",
        "print(\"\")\n",
        "print(\"--------Remove from head--------\")\n",
        "ldl.remove_from_head(30)\n",
        "ldl.transversal()\n",
        "print(\"\")\n",
        "print(\"--------Remove from tail---------\")\n",
        "ldl.remove_from_tail(40)\n",
        "ldl.transversal()\n",
        "print(\"\")\n",
        "print(f\"La Lista Doblemente Ligada tiene { ldl.get_size() } elementos\")\n",
        "print(\"\")\n",
        "ldl.find_from_tail(60)\n",
        "print(\"\")\n",
        "ldl.find_from_head(70)\n",
        "print(\"\")\n",
        "print(\"-------Reverse transversal-------\")\n",
        "ldl.reverse_transversal()\n",
        "print(\"\")"
      ],
      "execution_count": 64,
      "outputs": [
        {
          "output_type": "stream",
          "name": "stdout",
          "text": [
            "| 10 | -->| 20 | -->| 30 | -->| 40 | -->| 50 | -->| 60 | -->| 70 | -->| 80 | -->| 90 | -->| 100 | -->\n",
            "\n",
            "¿La lista está vacía?: False\n",
            "\n",
            "--------Remove from head--------\n",
            "| 10 | -->| 20 | -->| 40 | -->| 50 | -->| 60 | -->| 70 | -->| 80 | -->| 90 | -->| 100 | -->\n",
            "\n",
            "--------Remove from tail---------\n",
            "| 10 | -->| 20 | -->| 50 | -->| 60 | -->| 70 | -->| 80 | -->| 90 | -->| 100 | -->\n",
            "\n",
            "La Lista Doblemente Ligada tiene 10 elementos\n",
            "\n",
            "El Nodo está en la posición: 5 -----> entra por tail\n",
            "\n",
            "El Nodo está en la posición: 5 -----> entra por head\n",
            "\n",
            "-------Reverse transversal-------\n",
            "| 100 | -->| 90 | -->| 80 | -->| 70 | -->| 60 | -->| 50 | -->| 20 | -->| 10 | -->\n",
            "\n"
          ]
        }
      ]
    }
  ]
}